{
  "nbformat": 4,
  "nbformat_minor": 0,
  "metadata": {
    "colab": {
      "provenance": []
    },
    "kernelspec": {
      "name": "python3",
      "display_name": "Python 3"
    },
    "language_info": {
      "name": "python"
    }
  },
  "cells": [
    {
      "cell_type": "markdown",
      "source": [
        "soal 1\n"
      ],
      "metadata": {
        "id": "UiozBak-4kw9"
      }
    },
    {
      "cell_type": "code",
      "source": [
        "import filecmp\n",
        "\n",
        "def compare_files(file1, file2):\n",
        "    comparison = filecmp.cmp(file1, file2)\n",
        "    if comparison:\n",
        "        print(\"Kedua file sama.\")\n",
        "    else:\n",
        "        print(\"Kedua filenya berbeda.\")\n",
        "\n",
        "if __name__ == \"__main__\":\n",
        "    file1 = input(\"nama file pertama: \")\n",
        "    file2 = input(\"nama file kedua: \")\n",
        "    compare_files(file1, file2)"
      ],
      "metadata": {
        "id": "MKK8qyR14phS"
      },
      "execution_count": null,
      "outputs": []
    },
    {
      "cell_type": "markdown",
      "source": [
        "soal 2"
      ],
      "metadata": {
        "id": "fxLwI8cK4s3r"
      }
    },
    {
      "cell_type": "code",
      "source": [
        "print(\"jawablah pertanyaan-pertanyaan berikut:\")\n",
        "filename = \"soal.txt\"\n",
        "with open(filename, 'r') as file:\n",
        "    for line in file:\n",
        "        question, answer = line.strip().split(\"||\")\n",
        "        user_answer = input(f\"{question} \").strip().lower()\n",
        "        if user_answer == answer.strip().lower():\n",
        "            print(\" Jawaban Anda benar!\")\n",
        "        else:\n",
        "            print(f\"Maaf, jawaban yang benar adalah: {answer}\")\n",
        "        print()"
      ],
      "metadata": {
        "id": "w75OiBey4unH"
      },
      "execution_count": null,
      "outputs": []
    }
  ]
}